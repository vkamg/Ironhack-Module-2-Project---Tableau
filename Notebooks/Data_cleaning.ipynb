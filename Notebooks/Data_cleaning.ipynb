{
 "cells": [
  {
   "cell_type": "code",
   "execution_count": 1,
   "metadata": {},
   "outputs": [],
   "source": [
    "import pandas as pd"
   ]
  },
  {
   "cell_type": "code",
   "execution_count": 2,
   "metadata": {},
   "outputs": [],
   "source": [
    "one_star_df = pd.read_csv(f'../Data/Raw/one-star-michelin-restaurants.csv')"
   ]
  },
  {
   "cell_type": "code",
   "execution_count": 3,
   "metadata": {},
   "outputs": [
    {
     "data": {
      "text/html": [
       "<div>\n",
       "<style scoped>\n",
       "    .dataframe tbody tr th:only-of-type {\n",
       "        vertical-align: middle;\n",
       "    }\n",
       "\n",
       "    .dataframe tbody tr th {\n",
       "        vertical-align: top;\n",
       "    }\n",
       "\n",
       "    .dataframe thead th {\n",
       "        text-align: right;\n",
       "    }\n",
       "</style>\n",
       "<table border=\"1\" class=\"dataframe\">\n",
       "  <thead>\n",
       "    <tr style=\"text-align: right;\">\n",
       "      <th></th>\n",
       "      <th>name</th>\n",
       "      <th>year</th>\n",
       "      <th>latitude</th>\n",
       "      <th>longitude</th>\n",
       "      <th>city</th>\n",
       "      <th>region</th>\n",
       "      <th>zipCode</th>\n",
       "      <th>cuisine</th>\n",
       "      <th>price</th>\n",
       "      <th>url</th>\n",
       "    </tr>\n",
       "  </thead>\n",
       "  <tbody>\n",
       "    <tr>\n",
       "      <th>0</th>\n",
       "      <td>Kilian Stuba</td>\n",
       "      <td>2019</td>\n",
       "      <td>47.348580</td>\n",
       "      <td>10.17114</td>\n",
       "      <td>Kleinwalsertal</td>\n",
       "      <td>Austria</td>\n",
       "      <td>87568</td>\n",
       "      <td>Creative</td>\n",
       "      <td>$$$$$</td>\n",
       "      <td>https://guide.michelin.com/at/en/vorarlberg/kl...</td>\n",
       "    </tr>\n",
       "    <tr>\n",
       "      <th>1</th>\n",
       "      <td>Pfefferschiff</td>\n",
       "      <td>2019</td>\n",
       "      <td>47.837870</td>\n",
       "      <td>13.07917</td>\n",
       "      <td>Hallwang</td>\n",
       "      <td>Austria</td>\n",
       "      <td>5300</td>\n",
       "      <td>Classic cuisine</td>\n",
       "      <td>$$$$$</td>\n",
       "      <td>https://guide.michelin.com/at/en/salzburg-regi...</td>\n",
       "    </tr>\n",
       "    <tr>\n",
       "      <th>2</th>\n",
       "      <td>Esszimmer</td>\n",
       "      <td>2019</td>\n",
       "      <td>47.806850</td>\n",
       "      <td>13.03409</td>\n",
       "      <td>Salzburg</td>\n",
       "      <td>Austria</td>\n",
       "      <td>5020</td>\n",
       "      <td>Creative</td>\n",
       "      <td>$$$$$</td>\n",
       "      <td>https://guide.michelin.com/at/en/salzburg-regi...</td>\n",
       "    </tr>\n",
       "    <tr>\n",
       "      <th>3</th>\n",
       "      <td>Carpe Diem</td>\n",
       "      <td>2019</td>\n",
       "      <td>47.800010</td>\n",
       "      <td>13.04006</td>\n",
       "      <td>Salzburg</td>\n",
       "      <td>Austria</td>\n",
       "      <td>5020</td>\n",
       "      <td>Market cuisine</td>\n",
       "      <td>$$$$$</td>\n",
       "      <td>https://guide.michelin.com/at/en/salzburg-regi...</td>\n",
       "    </tr>\n",
       "    <tr>\n",
       "      <th>4</th>\n",
       "      <td>Edvard</td>\n",
       "      <td>2019</td>\n",
       "      <td>48.216503</td>\n",
       "      <td>16.36852</td>\n",
       "      <td>Wien</td>\n",
       "      <td>Austria</td>\n",
       "      <td>1010</td>\n",
       "      <td>Modern cuisine</td>\n",
       "      <td>$$$$</td>\n",
       "      <td>https://guide.michelin.com/at/en/vienna/wien/r...</td>\n",
       "    </tr>\n",
       "  </tbody>\n",
       "</table>\n",
       "</div>"
      ],
      "text/plain": [
       "            name  year   latitude  longitude            city   region zipCode  \\\n",
       "0   Kilian Stuba  2019  47.348580   10.17114  Kleinwalsertal  Austria   87568   \n",
       "1  Pfefferschiff  2019  47.837870   13.07917        Hallwang  Austria    5300   \n",
       "2      Esszimmer  2019  47.806850   13.03409        Salzburg  Austria    5020   \n",
       "3     Carpe Diem  2019  47.800010   13.04006        Salzburg  Austria    5020   \n",
       "4         Edvard  2019  48.216503   16.36852            Wien  Austria    1010   \n",
       "\n",
       "           cuisine  price                                                url  \n",
       "0         Creative  $$$$$  https://guide.michelin.com/at/en/vorarlberg/kl...  \n",
       "1  Classic cuisine  $$$$$  https://guide.michelin.com/at/en/salzburg-regi...  \n",
       "2         Creative  $$$$$  https://guide.michelin.com/at/en/salzburg-regi...  \n",
       "3   Market cuisine  $$$$$  https://guide.michelin.com/at/en/salzburg-regi...  \n",
       "4   Modern cuisine   $$$$  https://guide.michelin.com/at/en/vienna/wien/r...  "
      ]
     },
     "execution_count": 3,
     "metadata": {},
     "output_type": "execute_result"
    }
   ],
   "source": [
    "one_star_df.head()"
   ]
  },
  {
   "cell_type": "code",
   "execution_count": 4,
   "metadata": {},
   "outputs": [],
   "source": [
    "one_star_df['stars'] = '1'"
   ]
  },
  {
   "cell_type": "code",
   "execution_count": 6,
   "metadata": {},
   "outputs": [],
   "source": [
    "two_stars_df = pd.read_csv(f'../Data/Raw/two-stars-michelin-restaurants.csv')"
   ]
  },
  {
   "cell_type": "code",
   "execution_count": 8,
   "metadata": {},
   "outputs": [
    {
     "data": {
      "text/html": [
       "<div>\n",
       "<style scoped>\n",
       "    .dataframe tbody tr th:only-of-type {\n",
       "        vertical-align: middle;\n",
       "    }\n",
       "\n",
       "    .dataframe tbody tr th {\n",
       "        vertical-align: top;\n",
       "    }\n",
       "\n",
       "    .dataframe thead th {\n",
       "        text-align: right;\n",
       "    }\n",
       "</style>\n",
       "<table border=\"1\" class=\"dataframe\">\n",
       "  <thead>\n",
       "    <tr style=\"text-align: right;\">\n",
       "      <th></th>\n",
       "      <th>name</th>\n",
       "      <th>year</th>\n",
       "      <th>latitude</th>\n",
       "      <th>longitude</th>\n",
       "      <th>city</th>\n",
       "      <th>region</th>\n",
       "      <th>zipCode</th>\n",
       "      <th>cuisine</th>\n",
       "      <th>price</th>\n",
       "      <th>url</th>\n",
       "    </tr>\n",
       "  </thead>\n",
       "  <tbody>\n",
       "    <tr>\n",
       "      <th>0</th>\n",
       "      <td>SENNS.Restaurant</td>\n",
       "      <td>2019</td>\n",
       "      <td>47.83636</td>\n",
       "      <td>13.06389</td>\n",
       "      <td>Salzburg</td>\n",
       "      <td>Austria</td>\n",
       "      <td>5020</td>\n",
       "      <td>Creative</td>\n",
       "      <td>$$$$$</td>\n",
       "      <td>https://guide.michelin.com/at/en/salzburg-regi...</td>\n",
       "    </tr>\n",
       "    <tr>\n",
       "      <th>1</th>\n",
       "      <td>Ikarus</td>\n",
       "      <td>2019</td>\n",
       "      <td>47.79536</td>\n",
       "      <td>13.00695</td>\n",
       "      <td>Salzburg</td>\n",
       "      <td>Austria</td>\n",
       "      <td>5020</td>\n",
       "      <td>Creative</td>\n",
       "      <td>$$$$$</td>\n",
       "      <td>https://guide.michelin.com/at/en/salzburg-regi...</td>\n",
       "    </tr>\n",
       "    <tr>\n",
       "      <th>2</th>\n",
       "      <td>Mraz &amp; Sohn</td>\n",
       "      <td>2019</td>\n",
       "      <td>48.23129</td>\n",
       "      <td>16.37637</td>\n",
       "      <td>Wien</td>\n",
       "      <td>Austria</td>\n",
       "      <td>1200</td>\n",
       "      <td>Creative</td>\n",
       "      <td>$$$$$</td>\n",
       "      <td>https://guide.michelin.com/at/en/vienna/wien/r...</td>\n",
       "    </tr>\n",
       "    <tr>\n",
       "      <th>3</th>\n",
       "      <td>Konstantin Filippou</td>\n",
       "      <td>2019</td>\n",
       "      <td>48.21056</td>\n",
       "      <td>16.37996</td>\n",
       "      <td>Wien</td>\n",
       "      <td>Austria</td>\n",
       "      <td>1010</td>\n",
       "      <td>Modern cuisine</td>\n",
       "      <td>$$$$$</td>\n",
       "      <td>https://guide.michelin.com/at/en/vienna/wien/r...</td>\n",
       "    </tr>\n",
       "    <tr>\n",
       "      <th>4</th>\n",
       "      <td>Silvio Nickol Gourmet Restaurant</td>\n",
       "      <td>2019</td>\n",
       "      <td>48.20558</td>\n",
       "      <td>16.37693</td>\n",
       "      <td>Wien</td>\n",
       "      <td>Austria</td>\n",
       "      <td>1010</td>\n",
       "      <td>Modern cuisine</td>\n",
       "      <td>$$$$$</td>\n",
       "      <td>https://guide.michelin.com/at/en/vienna/wien/r...</td>\n",
       "    </tr>\n",
       "  </tbody>\n",
       "</table>\n",
       "</div>"
      ],
      "text/plain": [
       "                               name  year  latitude  longitude      city  \\\n",
       "0                  SENNS.Restaurant  2019  47.83636   13.06389  Salzburg   \n",
       "1                            Ikarus  2019  47.79536   13.00695  Salzburg   \n",
       "2                       Mraz & Sohn  2019  48.23129   16.37637      Wien   \n",
       "3               Konstantin Filippou  2019  48.21056   16.37996      Wien   \n",
       "4  Silvio Nickol Gourmet Restaurant  2019  48.20558   16.37693      Wien   \n",
       "\n",
       "    region zipCode         cuisine  price  \\\n",
       "0  Austria    5020        Creative  $$$$$   \n",
       "1  Austria    5020        Creative  $$$$$   \n",
       "2  Austria    1200        Creative  $$$$$   \n",
       "3  Austria    1010  Modern cuisine  $$$$$   \n",
       "4  Austria    1010  Modern cuisine  $$$$$   \n",
       "\n",
       "                                                 url  \n",
       "0  https://guide.michelin.com/at/en/salzburg-regi...  \n",
       "1  https://guide.michelin.com/at/en/salzburg-regi...  \n",
       "2  https://guide.michelin.com/at/en/vienna/wien/r...  \n",
       "3  https://guide.michelin.com/at/en/vienna/wien/r...  \n",
       "4  https://guide.michelin.com/at/en/vienna/wien/r...  "
      ]
     },
     "execution_count": 8,
     "metadata": {},
     "output_type": "execute_result"
    }
   ],
   "source": [
    "two_stars_df.head()"
   ]
  },
  {
   "cell_type": "code",
   "execution_count": 9,
   "metadata": {},
   "outputs": [],
   "source": [
    "two_stars_df['stars'] = '2'"
   ]
  },
  {
   "cell_type": "code",
   "execution_count": 10,
   "metadata": {},
   "outputs": [],
   "source": [
    "three_stars_df = pd.read_csv(f'../Data/Raw/three-stars-michelin-restaurants.csv')"
   ]
  },
  {
   "cell_type": "code",
   "execution_count": 11,
   "metadata": {},
   "outputs": [
    {
     "data": {
      "text/html": [
       "<div>\n",
       "<style scoped>\n",
       "    .dataframe tbody tr th:only-of-type {\n",
       "        vertical-align: middle;\n",
       "    }\n",
       "\n",
       "    .dataframe tbody tr th {\n",
       "        vertical-align: top;\n",
       "    }\n",
       "\n",
       "    .dataframe thead th {\n",
       "        text-align: right;\n",
       "    }\n",
       "</style>\n",
       "<table border=\"1\" class=\"dataframe\">\n",
       "  <thead>\n",
       "    <tr style=\"text-align: right;\">\n",
       "      <th></th>\n",
       "      <th>name</th>\n",
       "      <th>year</th>\n",
       "      <th>latitude</th>\n",
       "      <th>longitude</th>\n",
       "      <th>city</th>\n",
       "      <th>region</th>\n",
       "      <th>zipCode</th>\n",
       "      <th>cuisine</th>\n",
       "      <th>price</th>\n",
       "      <th>url</th>\n",
       "    </tr>\n",
       "  </thead>\n",
       "  <tbody>\n",
       "    <tr>\n",
       "      <th>0</th>\n",
       "      <td>Amador</td>\n",
       "      <td>2019</td>\n",
       "      <td>48.25406</td>\n",
       "      <td>16.35915</td>\n",
       "      <td>Wien</td>\n",
       "      <td>Austria</td>\n",
       "      <td>1190</td>\n",
       "      <td>Creative</td>\n",
       "      <td>$$$$$</td>\n",
       "      <td>https://guide.michelin.com/at/en/vienna/wien/r...</td>\n",
       "    </tr>\n",
       "    <tr>\n",
       "      <th>1</th>\n",
       "      <td>Manresa</td>\n",
       "      <td>2019</td>\n",
       "      <td>37.22761</td>\n",
       "      <td>-121.98071</td>\n",
       "      <td>South San Francisco</td>\n",
       "      <td>California</td>\n",
       "      <td>95030</td>\n",
       "      <td>Contemporary</td>\n",
       "      <td>$$$$</td>\n",
       "      <td>https://guide.michelin.com/us/en/california/so...</td>\n",
       "    </tr>\n",
       "    <tr>\n",
       "      <th>2</th>\n",
       "      <td>Benu</td>\n",
       "      <td>2019</td>\n",
       "      <td>37.78521</td>\n",
       "      <td>-122.39876</td>\n",
       "      <td>San Francisco</td>\n",
       "      <td>California</td>\n",
       "      <td>94105</td>\n",
       "      <td>Asian</td>\n",
       "      <td>$$$$</td>\n",
       "      <td>https://guide.michelin.com/us/en/california/sa...</td>\n",
       "    </tr>\n",
       "    <tr>\n",
       "      <th>3</th>\n",
       "      <td>Quince</td>\n",
       "      <td>2019</td>\n",
       "      <td>37.79762</td>\n",
       "      <td>-122.40337</td>\n",
       "      <td>San Francisco</td>\n",
       "      <td>California</td>\n",
       "      <td>94133</td>\n",
       "      <td>Contemporary</td>\n",
       "      <td>$$$$</td>\n",
       "      <td>https://guide.michelin.com/us/en/california/sa...</td>\n",
       "    </tr>\n",
       "    <tr>\n",
       "      <th>4</th>\n",
       "      <td>Atelier Crenn</td>\n",
       "      <td>2019</td>\n",
       "      <td>37.79835</td>\n",
       "      <td>-122.43586</td>\n",
       "      <td>San Francisco</td>\n",
       "      <td>California</td>\n",
       "      <td>94123</td>\n",
       "      <td>Contemporary</td>\n",
       "      <td>$$$$</td>\n",
       "      <td>https://guide.michelin.com/us/en/california/sa...</td>\n",
       "    </tr>\n",
       "  </tbody>\n",
       "</table>\n",
       "</div>"
      ],
      "text/plain": [
       "            name  year  latitude  longitude                 city      region  \\\n",
       "0         Amador  2019  48.25406   16.35915                 Wien     Austria   \n",
       "1        Manresa  2019  37.22761 -121.98071  South San Francisco  California   \n",
       "2           Benu  2019  37.78521 -122.39876        San Francisco  California   \n",
       "3         Quince  2019  37.79762 -122.40337        San Francisco  California   \n",
       "4  Atelier Crenn  2019  37.79835 -122.43586        San Francisco  California   \n",
       "\n",
       "  zipCode       cuisine  price  \\\n",
       "0    1190      Creative  $$$$$   \n",
       "1   95030  Contemporary   $$$$   \n",
       "2   94105         Asian   $$$$   \n",
       "3   94133  Contemporary   $$$$   \n",
       "4   94123  Contemporary   $$$$   \n",
       "\n",
       "                                                 url  \n",
       "0  https://guide.michelin.com/at/en/vienna/wien/r...  \n",
       "1  https://guide.michelin.com/us/en/california/so...  \n",
       "2  https://guide.michelin.com/us/en/california/sa...  \n",
       "3  https://guide.michelin.com/us/en/california/sa...  \n",
       "4  https://guide.michelin.com/us/en/california/sa...  "
      ]
     },
     "execution_count": 11,
     "metadata": {},
     "output_type": "execute_result"
    }
   ],
   "source": [
    "three_stars_df.head()"
   ]
  },
  {
   "cell_type": "code",
   "execution_count": 12,
   "metadata": {},
   "outputs": [],
   "source": [
    "three_stars_df['stars'] = '3'"
   ]
  },
  {
   "cell_type": "code",
   "execution_count": 13,
   "metadata": {},
   "outputs": [],
   "source": [
    "all_restaurants = pd.concat([one_star_df, two_stars_df, three_stars_df])"
   ]
  },
  {
   "cell_type": "code",
   "execution_count": 14,
   "metadata": {},
   "outputs": [
    {
     "name": "stdout",
     "output_type": "stream",
     "text": [
      "<class 'pandas.core.frame.DataFrame'>\n",
      "Int64Index: 695 entries, 0 to 35\n",
      "Data columns (total 11 columns):\n",
      "name         695 non-null object\n",
      "year         695 non-null int64\n",
      "latitude     695 non-null float64\n",
      "longitude    695 non-null float64\n",
      "city         693 non-null object\n",
      "region       695 non-null object\n",
      "zipCode      501 non-null object\n",
      "cuisine      695 non-null object\n",
      "price        519 non-null object\n",
      "url          695 non-null object\n",
      "stars        695 non-null object\n",
      "dtypes: float64(2), int64(1), object(8)\n",
      "memory usage: 65.2+ KB\n"
     ]
    }
   ],
   "source": [
    "all_restaurants.info()"
   ]
  },
  {
   "cell_type": "code",
   "execution_count": 17,
   "metadata": {},
   "outputs": [
    {
     "data": {
      "text/plain": [
       "city        0.287770\n",
       "zipCode    27.913669\n",
       "price      25.323741\n",
       "dtype: float64"
      ]
     },
     "execution_count": 17,
     "metadata": {},
     "output_type": "execute_result"
    }
   ],
   "source": [
    "null_cols = all_restaurants.isnull().sum()\n",
    "null_cols[null_cols > 0] / len(all_restaurants) * 100"
   ]
  },
  {
   "cell_type": "code",
   "execution_count": 19,
   "metadata": {},
   "outputs": [
    {
     "data": {
      "text/plain": [
       "Modern cuisine          108\n",
       "Contemporary             75\n",
       "Japanese                 54\n",
       "Creative                 46\n",
       "Cantonese                40\n",
       "                       ... \n",
       "Italian contemporary      1\n",
       "Sichuan                   1\n",
       "Market cuisine            1\n",
       "Meats and grills          1\n",
       "Noodles and congee        1\n",
       "Name: cuisine, Length: 70, dtype: int64"
      ]
     },
     "execution_count": 19,
     "metadata": {},
     "output_type": "execute_result"
    }
   ],
   "source": [
    "all_restaurants['cuisine'].value_counts()"
   ]
  },
  {
   "cell_type": "code",
   "execution_count": 20,
   "metadata": {},
   "outputs": [
    {
     "data": {
      "text/plain": [
       "array(['Creative', 'Classic cuisine', 'Market cuisine', 'Modern cuisine',\n",
       "       'Japanese', 'Vegetarian', 'Contemporary', 'Indian', 'Korean',\n",
       "       'Californian', 'American', 'International', 'Moroccan', 'Thai',\n",
       "       'Chinese', 'Fusion', 'Italian', 'French', 'Asian', 'Steakhouse',\n",
       "       'Mexican', 'Gastropub', 'Danish', 'Classic French', 'Finnish',\n",
       "       'Mediterranean', 'Seafood', 'Cantonese', 'Dim Sum', 'Teppanyaki',\n",
       "       'Sushi', 'Shanghainese', 'Noodles and congee', 'Innovative',\n",
       "       'Cantonese Roast Meats', 'Taizhou', 'Sichuan',\n",
       "       'European contemporary', 'Scandinavian', 'Austrian', 'Spanish',\n",
       "       'Modern British', 'modern', 'Asian influences', 'creative',\n",
       "       'French contemporary', 'Korean contemporary', 'Temple cuisine',\n",
       "       'Street Food', 'Fujian', 'Australian', 'Italian contemporary',\n",
       "       'Barbecue', 'Peranakan', 'Meats and grills', 'Taiwanese',\n",
       "       'Hang Zhou', 'Asian contemporary', 'Thai Contemporary',\n",
       "       'Southern Thai', 'European', 'Creative British',\n",
       "       'Traditional British', 'Regional cuisine', 'Mediterranean cuisine',\n",
       "       'Creative French', 'Modern French', 'Hunanese and Sichuan',\n",
       "       'Japanese contemporary', 'Sichuan-Huai Yang'], dtype=object)"
      ]
     },
     "execution_count": 20,
     "metadata": {},
     "output_type": "execute_result"
    }
   ],
   "source": [
    "all_restaurants.cuisine.unique()"
   ]
  },
  {
   "cell_type": "code",
   "execution_count": 21,
   "metadata": {},
   "outputs": [],
   "source": [
    "all_restaurants.to_csv(f'../Data/Processed/all_restaurants.csv')"
   ]
  }
 ],
 "metadata": {
  "kernelspec": {
   "display_name": "Python [conda env:data_env]",
   "language": "python",
   "name": "conda-env-data_env-py"
  },
  "language_info": {
   "codemirror_mode": {
    "name": "ipython",
    "version": 3
   },
   "file_extension": ".py",
   "mimetype": "text/x-python",
   "name": "python",
   "nbconvert_exporter": "python",
   "pygments_lexer": "ipython3",
   "version": "3.7.5"
  }
 },
 "nbformat": 4,
 "nbformat_minor": 4
}
